{
  "nbformat": 4,
  "nbformat_minor": 0,
  "metadata": {
    "colab": {
      "provenance": [],
      "gpuType": "T4"
    },
    "kernelspec": {
      "name": "python3",
      "display_name": "Python 3"
    },
    "language_info": {
      "name": "python"
    },
    "accelerator": "GPU"
  },
  "cells": [
    {
      "cell_type": "markdown",
      "source": [
        "**Pricing options and computing implied volatilities\n",
        "using neural networks**"
      ],
      "metadata": {
        "id": "YNx6xC5n_tRK"
      }
    },
    {
      "cell_type": "markdown",
      "source": [
        "## Option Pricing using Black Scholes"
      ],
      "metadata": {
        "id": "rntXMh3wUe2q"
      }
    },
    {
      "cell_type": "code",
      "execution_count": 19,
      "metadata": {
        "id": "WQ3CqC0YUQGY"
      },
      "outputs": [],
      "source": [
        "import torch\n",
        "import warnings\n",
        "import numpy as np\n",
        "import torchvision\n",
        "import pandas as pd\n",
        "import torch.nn as nn\n",
        "from tqdm import tqdm\n",
        "import torch.optim as optim\n",
        "import torch.nn.init as init\n",
        "from scipy.stats import norm\n",
        "from joblib import dump, load\n",
        "import matplotlib.pyplot as plt\n",
        "from colorama import Fore, Style\n",
        "from sklearn.preprocessing import MinMaxScaler\n",
        "from sklearn.model_selection import train_test_split\n",
        "from torch.utils.data import TensorDataset, DataLoader\n",
        "from sklearn.metrics import mean_squared_error, mean_absolute_error, r2_score"
      ]
    },
    {
      "cell_type": "code",
      "source": [
        "device = torch.device(\"cuda\" if torch.cuda.is_available() else \"cpu\")\n",
        "warnings.filterwarnings(\"ignore\", category=UserWarning, message=\".*target size.*different to the input size.*\")"
      ],
      "metadata": {
        "id": "gJQahslOe0VZ"
      },
      "execution_count": 2,
      "outputs": []
    },
    {
      "cell_type": "markdown",
      "source": [
        "*Table 2. The Selected Model After the Random Search*\n",
        "\n",
        "<div>\n",
        "    <style>\n",
        "        table {\n",
        "            border-collapse: collapse;\n",
        "            width: 50%;\n",
        "            margin: 20px auto;\n",
        "            font-family: Arial, sans-serif;\n",
        "        }\n",
        "        th, td {\n",
        "            border: 1px solid #ddd;\n",
        "            padding: 8px;\n",
        "            text-align: left;\n",
        "        }\n",
        "        th {\n",
        "            background-color: #f2f2f2;\n",
        "        }\n",
        "    </style>\n",
        "    <table>\n",
        "        <thead>\n",
        "            <tr>\n",
        "                <th>Parameter</th>\n",
        "                <th>Option</th>\n",
        "            </tr>\n",
        "        </thead>\n",
        "        <tbody>\n",
        "            <tr>\n",
        "                <td>Hidden layers</td>\n",
        "                <td>4</td>\n",
        "            </tr>\n",
        "            <tr>\n",
        "                <td>Neurons (each layer)</td>\n",
        "                <td>400</td>\n",
        "            </tr>\n",
        "            <tr>\n",
        "                <td>Activation</td>\n",
        "                <td>ReLU</td>\n",
        "            </tr>\n",
        "            <tr>\n",
        "                <td>Dropout rate</td>\n",
        "                <td>0.0</td>\n",
        "            </tr>\n",
        "            <tr>\n",
        "                <td>Batch-normalization</td>\n",
        "                <td>No</td>\n",
        "            </tr>\n",
        "            <tr>\n",
        "                <td>Initialization</td>\n",
        "                <td>Glorot_uniform</td>\n",
        "            </tr>\n",
        "            <tr>\n",
        "                <td>Optimizer</td>\n",
        "                <td>Adam</td>\n",
        "            </tr>\n",
        "            <tr>\n",
        "                <td>Batch size</td>\n",
        "                <td>1024</td>\n",
        "            </tr>\n",
        "        </tbody>\n",
        "    </table>\n",
        "</div>"
      ],
      "metadata": {
        "id": "O_LMIsD6UtEq"
      }
    },
    {
      "cell_type": "code",
      "source": [
        "class ANN_BlackScholes(nn.Module):\n",
        "    def __init__(self, input_size, num_classes):\n",
        "        super(ANN_BlackScholes, self).__init__()\n",
        "\n",
        "        ''' Define layers '''\n",
        "        self.fc1 = nn.Linear(input_size, 400)\n",
        "        self.fc2 = nn.Linear(400, 400)\n",
        "        self.fc3 = nn.Linear(400, 400)\n",
        "        self.fc4 = nn.Linear(400, 400)\n",
        "        self.fc5 = nn.Linear(400, 1)\n",
        "\n",
        "        ''' Activation and dropout '''\n",
        "        self.relu = nn.ReLU()\n",
        "        self.dropout = nn.Dropout(0.0)\n",
        "\n",
        "        ''' Apply Glorot (Xavier) initialization to the weights '''\n",
        "        self._initialize_weights()\n",
        "\n",
        "    def forward(self, x):\n",
        "        x = self.fc1(x)\n",
        "        x = self.relu(x)\n",
        "        x = self.fc2(x)\n",
        "        x = self.relu(x)\n",
        "        x = self.fc3(x)\n",
        "        x = self.relu(x)\n",
        "        x = self.fc4(x)\n",
        "        x = self.relu(x)\n",
        "        x = self.fc5(x)\n",
        "        return x\n",
        "\n",
        "    def _initialize_weights(self):\n",
        "        ''' Apply Glorot (Xavier) initialization to all layers '''\n",
        "        init.xavier_uniform_(self.fc1.weight)\n",
        "        init.xavier_uniform_(self.fc2.weight)\n",
        "        init.xavier_uniform_(self.fc3.weight)\n",
        "        init.xavier_uniform_(self.fc4.weight)\n",
        "        init.xavier_uniform_(self.fc5.weight)"
      ],
      "metadata": {
        "id": "VBG1LCo6Ulm3"
      },
      "execution_count": 3,
      "outputs": []
    },
    {
      "cell_type": "markdown",
      "source": [
        "Data Generation"
      ],
      "metadata": {
        "id": "YF2TM7crVbgi"
      }
    },
    {
      "cell_type": "code",
      "source": [
        "torch.manual_seed(42)\n",
        "np.random.seed(42)"
      ],
      "metadata": {
        "id": "Yt3iD4m4VV98"
      },
      "execution_count": 4,
      "outputs": []
    },
    {
      "cell_type": "code",
      "source": [
        "batch_size = 1024\n",
        "Sample_Size = 1000000"
      ],
      "metadata": {
        "id": "4xNPyKW--d7M"
      },
      "execution_count": 5,
      "outputs": []
    },
    {
      "cell_type": "code",
      "source": [
        "def Black_Scholes(money_ness, T, r, sigma):\n",
        "  d1 = (np.log(money_ness) + (r + 0.5 * sigma**2) * T) / (sigma * np.sqrt(T))\n",
        "  d2 = d1 - sigma * np.sqrt(T)\n",
        "  Call_Prices = money_ness * norm.cdf(d1) - np.exp(-r * T) * norm.cdf(d2)\n",
        "  return Call_Prices"
      ],
      "metadata": {
        "id": "CFrAC8UQV-Zs"
      },
      "execution_count": 6,
      "outputs": []
    },
    {
      "cell_type": "code",
      "source": [
        "'''\n",
        "Generate random values for the parameters\n",
        "'''\n",
        "SK = np.random.uniform(0.4, 1.6, Sample_Size)\n",
        "T = np.random.uniform(0.2, 1.1, Sample_Size)\n",
        "r = np.random.uniform(0.02, 0.1, Sample_Size)\n",
        "sigma = np.random.uniform(0.01, 1.0, Sample_Size)\n",
        "\n",
        "\n",
        "'''\n",
        "Calculate the call option prices using the Black-Scholes equation\n",
        "'''\n",
        "call_prices = Black_Scholes(SK, T, r, sigma)\n",
        "\n",
        "\n",
        "'''\n",
        "Create a DataFrame to store the dataset\n",
        "'''\n",
        "df = pd.DataFrame({\n",
        "    'MoneyNess (K)': SK,\n",
        "    'Time to Maturity (T)': T,\n",
        "    'Risk-Free Rate (r)': r,\n",
        "    'Volatility (sigma)': sigma,\n",
        "    'Call Option Price': call_prices\n",
        "})\n",
        "\n",
        "train_df, test_df = train_test_split(df, test_size=0.1, random_state=42)"
      ],
      "metadata": {
        "id": "yydGGFo1Vxyw"
      },
      "execution_count": 7,
      "outputs": []
    },
    {
      "cell_type": "code",
      "source": [
        "scaler = MinMaxScaler()\n",
        "train_df['Call Option Price'] = scaler.fit_transform(train_df['Call Option Price'].values.reshape(-1, 1))\n",
        "test_df['Call Option Price'] = scaler.transform(test_df['Call Option Price'].values.reshape(-1, 1))"
      ],
      "metadata": {
        "id": "d_5p-3nNWfs8"
      },
      "execution_count": 8,
      "outputs": []
    },
    {
      "cell_type": "code",
      "source": [
        "X_train = train_df[['MoneyNess (K)', 'Time to Maturity (T)', 'Risk-Free Rate (r)', 'Volatility (sigma)']].values\n",
        "y_train = train_df['Call Option Price'].values\n",
        "\n",
        "X_test = test_df[['MoneyNess (K)', 'Time to Maturity (T)', 'Risk-Free Rate (r)', 'Volatility (sigma)']].values\n",
        "y_test = test_df['Call Option Price'].values\n",
        "\n",
        "''' Convert to PyTorch tensors '''\n",
        "X_train_tensor = torch.tensor(X_train, dtype=torch.float32)\n",
        "y_train_tensor = torch.tensor(y_train, dtype=torch.float32)\n",
        "\n",
        "X_test_tensor = torch.tensor(X_test, dtype=torch.float32)\n",
        "y_test_tensor = torch.tensor(y_test, dtype=torch.float32)\n",
        "\n",
        "''' Create TensorDataset '''\n",
        "train_dataset = TensorDataset(X_train_tensor, y_train_tensor)\n",
        "test_dataset = TensorDataset(X_test_tensor, y_test_tensor)\n",
        "\n",
        "''' Create DataLoader '''\n",
        "train_loader = DataLoader(train_dataset, batch_size=batch_size, shuffle=True)\n",
        "test_loader = DataLoader(test_dataset, batch_size=batch_size, shuffle=False)"
      ],
      "metadata": {
        "id": "TWO_O1lSZZTf"
      },
      "execution_count": 9,
      "outputs": []
    },
    {
      "cell_type": "code",
      "source": [
        "def train(model, train_loader, criterion, optimizer, num_epochs, scaler):\n",
        "    model.train()\n",
        "    train_losses = []\n",
        "\n",
        "    for epoch in range(num_epochs):\n",
        "        epoch_loss = 0.0\n",
        "        all_targets_scaled = []\n",
        "        all_predictions_scaled = []\n",
        "\n",
        "        ''' Create a progress bar for the current epoch '''\n",
        "        pbar = tqdm(\n",
        "            train_loader,\n",
        "            desc=f\"{Fore.GREEN}Epoch {epoch + 1}/{num_epochs}{Style.RESET_ALL}\",\n",
        "            ncols=100,\n",
        "            dynamic_ncols=True,\n",
        "            bar_format=\"{l_bar}{bar}| {n_fmt}/{total_fmt} [{elapsed}<{remaining}]\",\n",
        "        )\n",
        "\n",
        "        for batch_idx, (data, target) in enumerate(pbar):\n",
        "            data, target = data.to(device), target.to(device)\n",
        "            optimizer.zero_grad()\n",
        "\n",
        "            output = model(data)\n",
        "            target = target.view_as(output)\n",
        "\n",
        "            loss = criterion(output, target)\n",
        "            loss.backward()\n",
        "            optimizer.step()\n",
        "\n",
        "            epoch_loss += loss.item()\n",
        "\n",
        "            ''' Collect scaled predictions and targets for metrics calculation '''\n",
        "            all_predictions_scaled.extend(output.detach().cpu().numpy())\n",
        "            all_targets_scaled.extend(target.detach().cpu().numpy())\n",
        "\n",
        "            ''' Update the progress bar with batch loss '''\n",
        "            pbar.set_postfix({\n",
        "                f\"{Fore.YELLOW}Batch Loss{Style.RESET_ALL}\": f\"{loss.item():.6f}\"\n",
        "            })\n",
        "\n",
        "        ''' Reshape before inverse transform '''\n",
        "        all_predictions_scaled = np.array(all_predictions_scaled).reshape(-1, 1)\n",
        "        all_targets_scaled = np.array(all_targets_scaled).reshape(-1, 1)\n",
        "\n",
        "        ''' Reverse transform predictions and targets to original scale '''\n",
        "        all_predictions = scaler.inverse_transform(all_predictions_scaled).flatten()\n",
        "        all_targets = scaler.inverse_transform(all_targets_scaled).flatten()\n",
        "\n",
        "        ''' Calculate metrics for the epoch '''\n",
        "        mse = mean_squared_error(all_targets, all_predictions)\n",
        "        mae = mean_absolute_error(all_targets, all_predictions)\n",
        "        avg_loss = epoch_loss / len(train_loader)\n",
        "\n",
        "        train_losses.append(avg_loss)\n",
        "        print(\n",
        "            f\"{Fore.CYAN}Results :{Style.RESET_ALL} \"\n",
        "            f\"{Fore.MAGENTA}Average Loss:{Style.RESET_ALL} {avg_loss:.6f}, \"\n",
        "            f\"{Fore.MAGENTA}MSE:{Style.RESET_ALL} {mse:.6f}, \"\n",
        "            f\"{Fore.MAGENTA}MAE:{Style.RESET_ALL} {mae:.6f}\\n\"\n",
        "        )\n",
        "\n",
        "    return train_losses"
      ],
      "metadata": {
        "id": "_9yNFiKKXHcn"
      },
      "execution_count": 10,
      "outputs": []
    },
    {
      "cell_type": "code",
      "source": [
        "def test(model, test_loader, scaler):\n",
        "    model.eval()\n",
        "    test_loss = 0\n",
        "    y_pred_scaled = []\n",
        "    y_true_scaled = []\n",
        "\n",
        "    with torch.no_grad():\n",
        "        for data, target in test_loader:\n",
        "            data, target = data.to(device), target.to(device)\n",
        "            output = model(data)\n",
        "            test_loss += criterion(output, target).item()\n",
        "            y_pred_scaled.extend(output.cpu().numpy())\n",
        "            y_true_scaled.extend(target.cpu().numpy())\n",
        "\n",
        "    test_loss /= len(test_loader.dataset)\n",
        "\n",
        "    y_pred = scaler.inverse_transform(np.array(y_pred_scaled).reshape(-1, 1)).flatten()\n",
        "    y_true = scaler.inverse_transform(np.array(y_true_scaled).reshape(-1, 1)).flatten()\n",
        "\n",
        "    ''' Calculate metrics on original scale '''\n",
        "    mse = mean_squared_error(y_true, y_pred)\n",
        "    mae = mean_absolute_error(y_true, y_pred)\n",
        "    r2 = r2_score(y_true, y_pred)\n",
        "\n",
        "    return mse, mae, r2"
      ],
      "metadata": {
        "id": "VKHnqvrNX1J-"
      },
      "execution_count": 11,
      "outputs": []
    },
    {
      "cell_type": "code",
      "source": [
        "def plot_loss_history(history):\n",
        "    epochs = range(1, len(history) + 1)\n",
        "\n",
        "    plt.figure(figsize=(10, 6))\n",
        "    plt.plot(epochs, history, label=\"Training Loss\", color='b', marker='o', linestyle='-', markersize=6)\n",
        "\n",
        "    plt.title(\"Training Loss Over Epochs\", fontsize=14)\n",
        "    plt.xlabel(\"Epochs\", fontsize=12)\n",
        "    plt.ylabel(\"Loss\", fontsize=12)\n",
        "\n",
        "    plt.grid(True)\n",
        "    plt.legend(loc='upper right')\n",
        "\n",
        "    plt.show()"
      ],
      "metadata": {
        "id": "ltSfzdqv1-qE"
      },
      "execution_count": 12,
      "outputs": []
    },
    {
      "cell_type": "code",
      "source": [
        "model = ANN_BlackScholes(input_size=4, num_classes=1).to(device)\n",
        "criterion = nn.MSELoss()\n",
        "optimizer = optim.Adam(model.parameters(), lr=0.001)"
      ],
      "metadata": {
        "id": "mHGvX9JFkZma"
      },
      "execution_count": 13,
      "outputs": []
    },
    {
      "cell_type": "code",
      "source": [
        "epoch = 25"
      ],
      "metadata": {
        "id": "Ij70QYfNk87J"
      },
      "execution_count": 14,
      "outputs": []
    },
    {
      "cell_type": "code",
      "source": [
        "history = train(model, train_loader, criterion, optimizer, epoch, scaler)\n",
        "plot_loss_history(history)"
      ],
      "metadata": {
        "colab": {
          "base_uri": "https://localhost:8080/",
          "height": 1000
        },
        "id": "KP5HmX70YT-Y",
        "outputId": "7b9318ed-51e7-4515-c58d-4d44dde20b7d"
      },
      "execution_count": 15,
      "outputs": [
        {
          "output_type": "stream",
          "name": "stderr",
          "text": [
            "\u001b[32mEpoch 1/25\u001b[0m: 100%|██████████| 879/879 [00:21<00:00]\n"
          ]
        },
        {
          "output_type": "stream",
          "name": "stdout",
          "text": [
            "\u001b[36mResults :\u001b[0m \u001b[35mAverage Loss:\u001b[0m 0.002415, \u001b[35mMSE:\u001b[0m 0.001971, \u001b[35mMAE:\u001b[0m 0.013673\n",
            "\n"
          ]
        },
        {
          "output_type": "stream",
          "name": "stderr",
          "text": [
            "\u001b[32mEpoch 2/25\u001b[0m: 100%|██████████| 879/879 [00:14<00:00]\n"
          ]
        },
        {
          "output_type": "stream",
          "name": "stdout",
          "text": [
            "\u001b[36mResults :\u001b[0m \u001b[35mAverage Loss:\u001b[0m 0.000051, \u001b[35mMSE:\u001b[0m 0.000041, \u001b[35mMAE:\u001b[0m 0.004627\n",
            "\n"
          ]
        },
        {
          "output_type": "stream",
          "name": "stderr",
          "text": [
            "\u001b[32mEpoch 3/25\u001b[0m: 100%|██████████| 879/879 [00:13<00:00]\n"
          ]
        },
        {
          "output_type": "stream",
          "name": "stdout",
          "text": [
            "\u001b[36mResults :\u001b[0m \u001b[35mAverage Loss:\u001b[0m 0.000043, \u001b[35mMSE:\u001b[0m 0.000035, \u001b[35mMAE:\u001b[0m 0.003585\n",
            "\n"
          ]
        },
        {
          "output_type": "stream",
          "name": "stderr",
          "text": [
            "\u001b[32mEpoch 4/25\u001b[0m: 100%|██████████| 879/879 [00:13<00:00]\n"
          ]
        },
        {
          "output_type": "stream",
          "name": "stdout",
          "text": [
            "\u001b[36mResults :\u001b[0m \u001b[35mAverage Loss:\u001b[0m 0.000028, \u001b[35mMSE:\u001b[0m 0.000023, \u001b[35mMAE:\u001b[0m 0.002321\n",
            "\n"
          ]
        },
        {
          "output_type": "stream",
          "name": "stderr",
          "text": [
            "\u001b[32mEpoch 5/25\u001b[0m: 100%|██████████| 879/879 [00:13<00:00]\n"
          ]
        },
        {
          "output_type": "stream",
          "name": "stdout",
          "text": [
            "\u001b[36mResults :\u001b[0m \u001b[35mAverage Loss:\u001b[0m 0.000027, \u001b[35mMSE:\u001b[0m 0.000022, \u001b[35mMAE:\u001b[0m 0.002831\n",
            "\n"
          ]
        },
        {
          "output_type": "stream",
          "name": "stderr",
          "text": [
            "\u001b[32mEpoch 6/25\u001b[0m: 100%|██████████| 879/879 [00:13<00:00]\n"
          ]
        },
        {
          "output_type": "stream",
          "name": "stdout",
          "text": [
            "\u001b[36mResults :\u001b[0m \u001b[35mAverage Loss:\u001b[0m 0.000023, \u001b[35mMSE:\u001b[0m 0.000019, \u001b[35mMAE:\u001b[0m 0.002917\n",
            "\n"
          ]
        },
        {
          "output_type": "stream",
          "name": "stderr",
          "text": [
            "\u001b[32mEpoch 7/25\u001b[0m: 100%|██████████| 879/879 [00:15<00:00]\n"
          ]
        },
        {
          "output_type": "stream",
          "name": "stdout",
          "text": [
            "\u001b[36mResults :\u001b[0m \u001b[35mAverage Loss:\u001b[0m 0.000024, \u001b[35mMSE:\u001b[0m 0.000020, \u001b[35mMAE:\u001b[0m 0.002362\n",
            "\n"
          ]
        },
        {
          "output_type": "stream",
          "name": "stderr",
          "text": [
            "\u001b[32mEpoch 8/25\u001b[0m: 100%|██████████| 879/879 [00:13<00:00]\n"
          ]
        },
        {
          "output_type": "stream",
          "name": "stdout",
          "text": [
            "\u001b[36mResults :\u001b[0m \u001b[35mAverage Loss:\u001b[0m 0.000020, \u001b[35mMSE:\u001b[0m 0.000016, \u001b[35mMAE:\u001b[0m 0.002313\n",
            "\n"
          ]
        },
        {
          "output_type": "stream",
          "name": "stderr",
          "text": [
            "\u001b[32mEpoch 9/25\u001b[0m: 100%|██████████| 879/879 [00:13<00:00]\n"
          ]
        },
        {
          "output_type": "stream",
          "name": "stdout",
          "text": [
            "\u001b[36mResults :\u001b[0m \u001b[35mAverage Loss:\u001b[0m 0.000017, \u001b[35mMSE:\u001b[0m 0.000014, \u001b[35mMAE:\u001b[0m 0.002155\n",
            "\n"
          ]
        },
        {
          "output_type": "stream",
          "name": "stderr",
          "text": [
            "\u001b[32mEpoch 10/25\u001b[0m: 100%|██████████| 879/879 [00:14<00:00]\n"
          ]
        },
        {
          "output_type": "stream",
          "name": "stdout",
          "text": [
            "\u001b[36mResults :\u001b[0m \u001b[35mAverage Loss:\u001b[0m 0.000015, \u001b[35mMSE:\u001b[0m 0.000012, \u001b[35mMAE:\u001b[0m 0.002322\n",
            "\n"
          ]
        },
        {
          "output_type": "stream",
          "name": "stderr",
          "text": [
            "\u001b[32mEpoch 11/25\u001b[0m: 100%|██████████| 879/879 [00:13<00:00]\n"
          ]
        },
        {
          "output_type": "stream",
          "name": "stdout",
          "text": [
            "\u001b[36mResults :\u001b[0m \u001b[35mAverage Loss:\u001b[0m 0.000015, \u001b[35mMSE:\u001b[0m 0.000012, \u001b[35mMAE:\u001b[0m 0.002328\n",
            "\n"
          ]
        },
        {
          "output_type": "stream",
          "name": "stderr",
          "text": [
            "\u001b[32mEpoch 12/25\u001b[0m: 100%|██████████| 879/879 [00:14<00:00]\n"
          ]
        },
        {
          "output_type": "stream",
          "name": "stdout",
          "text": [
            "\u001b[36mResults :\u001b[0m \u001b[35mAverage Loss:\u001b[0m 0.000013, \u001b[35mMSE:\u001b[0m 0.000010, \u001b[35mMAE:\u001b[0m 0.001870\n",
            "\n"
          ]
        },
        {
          "output_type": "stream",
          "name": "stderr",
          "text": [
            "\u001b[32mEpoch 13/25\u001b[0m: 100%|██████████| 879/879 [00:13<00:00]\n"
          ]
        },
        {
          "output_type": "stream",
          "name": "stdout",
          "text": [
            "\u001b[36mResults :\u001b[0m \u001b[35mAverage Loss:\u001b[0m 0.000011, \u001b[35mMSE:\u001b[0m 0.000009, \u001b[35mMAE:\u001b[0m 0.001941\n",
            "\n"
          ]
        },
        {
          "output_type": "stream",
          "name": "stderr",
          "text": [
            "\u001b[32mEpoch 14/25\u001b[0m: 100%|██████████| 879/879 [00:14<00:00]\n"
          ]
        },
        {
          "output_type": "stream",
          "name": "stdout",
          "text": [
            "\u001b[36mResults :\u001b[0m \u001b[35mAverage Loss:\u001b[0m 0.000011, \u001b[35mMSE:\u001b[0m 0.000009, \u001b[35mMAE:\u001b[0m 0.001649\n",
            "\n"
          ]
        },
        {
          "output_type": "stream",
          "name": "stderr",
          "text": [
            "\u001b[32mEpoch 15/25\u001b[0m: 100%|██████████| 879/879 [00:14<00:00]\n"
          ]
        },
        {
          "output_type": "stream",
          "name": "stdout",
          "text": [
            "\u001b[36mResults :\u001b[0m \u001b[35mAverage Loss:\u001b[0m 0.000009, \u001b[35mMSE:\u001b[0m 0.000007, \u001b[35mMAE:\u001b[0m 0.001573\n",
            "\n"
          ]
        },
        {
          "output_type": "stream",
          "name": "stderr",
          "text": [
            "\u001b[32mEpoch 16/25\u001b[0m: 100%|██████████| 879/879 [00:14<00:00]\n"
          ]
        },
        {
          "output_type": "stream",
          "name": "stdout",
          "text": [
            "\u001b[36mResults :\u001b[0m \u001b[35mAverage Loss:\u001b[0m 0.000009, \u001b[35mMSE:\u001b[0m 0.000007, \u001b[35mMAE:\u001b[0m 0.001751\n",
            "\n"
          ]
        },
        {
          "output_type": "stream",
          "name": "stderr",
          "text": [
            "\u001b[32mEpoch 17/25\u001b[0m: 100%|██████████| 879/879 [00:15<00:00]\n"
          ]
        },
        {
          "output_type": "stream",
          "name": "stdout",
          "text": [
            "\u001b[36mResults :\u001b[0m \u001b[35mAverage Loss:\u001b[0m 0.000007, \u001b[35mMSE:\u001b[0m 0.000006, \u001b[35mMAE:\u001b[0m 0.001541\n",
            "\n"
          ]
        },
        {
          "output_type": "stream",
          "name": "stderr",
          "text": [
            "\u001b[32mEpoch 18/25\u001b[0m: 100%|██████████| 879/879 [00:14<00:00]\n"
          ]
        },
        {
          "output_type": "stream",
          "name": "stdout",
          "text": [
            "\u001b[36mResults :\u001b[0m \u001b[35mAverage Loss:\u001b[0m 0.000007, \u001b[35mMSE:\u001b[0m 0.000006, \u001b[35mMAE:\u001b[0m 0.001434\n",
            "\n"
          ]
        },
        {
          "output_type": "stream",
          "name": "stderr",
          "text": [
            "\u001b[32mEpoch 19/25\u001b[0m: 100%|██████████| 879/879 [00:14<00:00]\n"
          ]
        },
        {
          "output_type": "stream",
          "name": "stdout",
          "text": [
            "\u001b[36mResults :\u001b[0m \u001b[35mAverage Loss:\u001b[0m 0.000007, \u001b[35mMSE:\u001b[0m 0.000006, \u001b[35mMAE:\u001b[0m 0.001573\n",
            "\n"
          ]
        },
        {
          "output_type": "stream",
          "name": "stderr",
          "text": [
            "\u001b[32mEpoch 20/25\u001b[0m: 100%|██████████| 879/879 [00:14<00:00]\n"
          ]
        },
        {
          "output_type": "stream",
          "name": "stdout",
          "text": [
            "\u001b[36mResults :\u001b[0m \u001b[35mAverage Loss:\u001b[0m 0.000006, \u001b[35mMSE:\u001b[0m 0.000005, \u001b[35mMAE:\u001b[0m 0.001336\n",
            "\n"
          ]
        },
        {
          "output_type": "stream",
          "name": "stderr",
          "text": [
            "\u001b[32mEpoch 21/25\u001b[0m: 100%|██████████| 879/879 [00:14<00:00]\n"
          ]
        },
        {
          "output_type": "stream",
          "name": "stdout",
          "text": [
            "\u001b[36mResults :\u001b[0m \u001b[35mAverage Loss:\u001b[0m 0.000006, \u001b[35mMSE:\u001b[0m 0.000005, \u001b[35mMAE:\u001b[0m 0.001269\n",
            "\n"
          ]
        },
        {
          "output_type": "stream",
          "name": "stderr",
          "text": [
            "\u001b[32mEpoch 22/25\u001b[0m: 100%|██████████| 879/879 [00:13<00:00]\n"
          ]
        },
        {
          "output_type": "stream",
          "name": "stdout",
          "text": [
            "\u001b[36mResults :\u001b[0m \u001b[35mAverage Loss:\u001b[0m 0.000006, \u001b[35mMSE:\u001b[0m 0.000005, \u001b[35mMAE:\u001b[0m 0.001305\n",
            "\n"
          ]
        },
        {
          "output_type": "stream",
          "name": "stderr",
          "text": [
            "\u001b[32mEpoch 23/25\u001b[0m: 100%|██████████| 879/879 [00:13<00:00]\n"
          ]
        },
        {
          "output_type": "stream",
          "name": "stdout",
          "text": [
            "\u001b[36mResults :\u001b[0m \u001b[35mAverage Loss:\u001b[0m 0.000005, \u001b[35mMSE:\u001b[0m 0.000004, \u001b[35mMAE:\u001b[0m 0.001177\n",
            "\n"
          ]
        },
        {
          "output_type": "stream",
          "name": "stderr",
          "text": [
            "\u001b[32mEpoch 24/25\u001b[0m: 100%|██████████| 879/879 [00:14<00:00]\n"
          ]
        },
        {
          "output_type": "stream",
          "name": "stdout",
          "text": [
            "\u001b[36mResults :\u001b[0m \u001b[35mAverage Loss:\u001b[0m 0.000005, \u001b[35mMSE:\u001b[0m 0.000004, \u001b[35mMAE:\u001b[0m 0.001160\n",
            "\n"
          ]
        },
        {
          "output_type": "stream",
          "name": "stderr",
          "text": [
            "\u001b[32mEpoch 25/25\u001b[0m: 100%|██████████| 879/879 [00:14<00:00]\n"
          ]
        },
        {
          "output_type": "stream",
          "name": "stdout",
          "text": [
            "\u001b[36mResults :\u001b[0m \u001b[35mAverage Loss:\u001b[0m 0.000005, \u001b[35mMSE:\u001b[0m 0.000004, \u001b[35mMAE:\u001b[0m 0.001148\n",
            "\n"
          ]
        },
        {
          "output_type": "display_data",
          "data": {
            "text/plain": [
              "<Figure size 1000x600 with 1 Axes>"
            ],
            "image/png": "[encoded data removed]"
          },
          "metadata": {}
        }
      ]
    },
    {
      "cell_type": "markdown",
      "source": [
        "Eveluation on Test Data"
      ],
      "metadata": {
        "id": "-wb7usR52pBR"
      }
    },
    {
      "cell_type": "code",
      "source": [
        "mse, mae, r2 = test(model, test_loader,scaler)\n",
        "print(f'Mean Squared Error (MSE): {mse:.4f}')\n",
        "print(f'Mean Absolute Error (MAE): {mae:.4f}')\n",
        "print(f'R² Score: {r2:.4f}')"
      ],
      "metadata": {
        "id": "RIz3BmNkYY27",
        "colab": {
          "base_uri": "https://localhost:8080/"
        },
        "outputId": "30af7f8a-28dc-4f09-ffd3-d468822a542d"
      },
      "execution_count": 16,
      "outputs": [
        {
          "output_type": "stream",
          "name": "stdout",
          "text": [
            "Mean Squared Error (MSE): 0.0001\n",
            "Mean Absolute Error (MAE): 0.0075\n",
            "R² Score: 0.9984\n"
          ]
        }
      ]
    },
    {
      "cell_type": "markdown",
      "source": [
        "Eveluation on Train Data"
      ],
      "metadata": {
        "id": "AfUEbOAL2wxY"
      }
    },
    {
      "cell_type": "code",
      "source": [
        "mse, mae, r2 = test(model, train_loader,scaler)\n",
        "print(f'Mean Squared Error (MSE): {mse:.4f}')\n",
        "print(f'Mean Absolute Error (MAE): {mae:.4f}')\n",
        "print(f'R² Score: {r2:.4f}')"
      ],
      "metadata": {
        "id": "WqZMyqbtYqa7",
        "colab": {
          "base_uri": "https://localhost:8080/"
        },
        "outputId": "3dc5c8a9-5c50-48d6-9959-1fa94b4b0e01"
      },
      "execution_count": 17,
      "outputs": [
        {
          "output_type": "stream",
          "name": "stdout",
          "text": [
            "Mean Squared Error (MSE): 0.0001\n",
            "Mean Absolute Error (MAE): 0.0075\n",
            "R² Score: 0.9984\n"
          ]
        }
      ]
    },
    {
      "cell_type": "markdown",
      "source": [
        "Save the Models"
      ],
      "metadata": {
        "id": "Ym4TVO-flPtd"
      }
    },
    {
      "cell_type": "code",
      "source": [
        "'''\n",
        "Saving Standard Scaler for future use\n",
        "'''\n",
        "dump(scaler, 'scaler.joblib')"
      ],
      "metadata": {
        "colab": {
          "base_uri": "https://localhost:8080/"
        },
        "id": "UQbP0xsdlTAF",
        "outputId": "3f994a19-ff38-4738-a818-c425a3baa394"
      },
      "execution_count": 20,
      "outputs": [
        {
          "output_type": "execute_result",
          "data": {
            "text/plain": [
              "['scaler.joblib']"
            ]
          },
          "metadata": {},
          "execution_count": 20
        }
      ]
    },
    {
      "cell_type": "code",
      "source": [
        "'''\n",
        "Save the model for future use\n",
        "'''\n",
        "torch.save(model.state_dict(), '/content/Option_Pricing_Model.pth')"
      ],
      "metadata": {
        "id": "D9SuS3BElUFe"
      },
      "execution_count": 22,
      "outputs": []
    },
    {
      "cell_type": "markdown",
      "source": [
        "## Implied Volatility using Black Scholes"
      ],
      "metadata": {
        "id": "KRpTU164yUqm"
      }
    },
    {
      "cell_type": "code",
      "source": [
        "''' Reverse the scalled data '''\n",
        "train_df['Call Option Price'] = scaler.inverse_transform(train_df['Call Option Price'].values.reshape(-1, 1))\n",
        "test_df['Call Option Price'] = scaler.inverse_transform(test_df['Call Option Price'].values.reshape(-1, 1))"
      ],
      "metadata": {
        "id": "i6FxBroxoSxB"
      },
      "execution_count": 23,
      "outputs": []
    },
    {
      "cell_type": "code",
      "source": [
        "scaler1 = MinMaxScaler()\n",
        "train_df['Volatility (sigma)'] = scaler1.fit_transform(train_df['Volatility (sigma)'].values.reshape(-1, 1))\n",
        "test_df['Volatility (sigma)'] = scaler1.transform(test_df['Volatility (sigma)'].values.reshape(-1, 1))"
      ],
      "metadata": {
        "id": "I3TFmgtm8-CK"
      },
      "execution_count": 24,
      "outputs": []
    },
    {
      "cell_type": "code",
      "source": [
        "X_train = train_df[['MoneyNess (K)', 'Time to Maturity (T)', 'Risk-Free Rate (r)','Call Option Price']].values\n",
        "y_train = train_df['Volatility (sigma)'].values\n",
        "\n",
        "X_test = test_df[['MoneyNess (K)', 'Time to Maturity (T)', 'Risk-Free Rate (r)','Call Option Price']].values\n",
        "y_test = test_df['Volatility (sigma)'].values\n",
        "\n",
        "''' Convert to PyTorch tensors '''\n",
        "X_train_tensor = torch.tensor(X_train, dtype=torch.float32)\n",
        "y_train_tensor = torch.tensor(y_train, dtype=torch.float32)\n",
        "\n",
        "X_test_tensor = torch.tensor(X_test, dtype=torch.float32)\n",
        "y_test_tensor = torch.tensor(y_test, dtype=torch.float32)\n",
        "\n",
        "''' Create TensorDataset '''\n",
        "train_dataset = TensorDataset(X_train_tensor, y_train_tensor)\n",
        "test_dataset = TensorDataset(X_test_tensor, y_test_tensor)\n",
        "\n",
        "''' Create Train loader and Test Loader '''\n",
        "train_loader1 = DataLoader(train_dataset, batch_size=batch_size, shuffle=True)\n",
        "test_loader1 = DataLoader(test_dataset, batch_size=batch_size, shuffle=False)"
      ],
      "metadata": {
        "id": "8liiKwS-yZzA"
      },
      "execution_count": 25,
      "outputs": []
    },
    {
      "cell_type": "code",
      "source": [
        "model_implied = ANN_BlackScholes(input_size=4, num_classes=1).to(device)\n",
        "criterion = nn.MSELoss()\n",
        "optimizer = optim.Adam(model_implied.parameters(), lr=0.0001)"
      ],
      "metadata": {
        "id": "_399aaWxy0wN"
      },
      "execution_count": 26,
      "outputs": []
    },
    {
      "cell_type": "code",
      "source": [
        "history = train(model_implied, train_loader1, criterion, optimizer, epoch, scaler1)\n",
        "plot_loss_history(history)"
      ],
      "metadata": {
        "id": "1iUCuy5Z1gm5",
        "colab": {
          "base_uri": "https://localhost:8080/",
          "height": 1000
        },
        "outputId": "8c2a499a-f8e4-4088-e39e-9be7f18b755f"
      },
      "execution_count": 27,
      "outputs": [
        {
          "output_type": "stream",
          "name": "stderr",
          "text": [
            "\u001b[32mEpoch 1/25\u001b[0m: 100%|██████████| 879/879 [00:14<00:00]\n"
          ]
        },
        {
          "output_type": "stream",
          "name": "stdout",
          "text": [
            "\u001b[36mResults :\u001b[0m \u001b[35mAverage Loss:\u001b[0m 0.027438, \u001b[35mMSE:\u001b[0m 0.026894, \u001b[35mMAE:\u001b[0m 0.115910\n",
            "\n"
          ]
        },
        {
          "output_type": "stream",
          "name": "stderr",
          "text": [
            "\u001b[32mEpoch 2/25\u001b[0m: 100%|██████████| 879/879 [00:13<00:00]\n"
          ]
        },
        {
          "output_type": "stream",
          "name": "stdout",
          "text": [
            "\u001b[36mResults :\u001b[0m \u001b[35mAverage Loss:\u001b[0m 0.006779, \u001b[35mMSE:\u001b[0m 0.006644, \u001b[35mMAE:\u001b[0m 0.051321\n",
            "\n"
          ]
        },
        {
          "output_type": "stream",
          "name": "stderr",
          "text": [
            "\u001b[32mEpoch 3/25\u001b[0m: 100%|██████████| 879/879 [00:13<00:00]\n"
          ]
        },
        {
          "output_type": "stream",
          "name": "stdout",
          "text": [
            "\u001b[36mResults :\u001b[0m \u001b[35mAverage Loss:\u001b[0m 0.004539, \u001b[35mMSE:\u001b[0m 0.004449, \u001b[35mMAE:\u001b[0m 0.038757\n",
            "\n"
          ]
        },
        {
          "output_type": "stream",
          "name": "stderr",
          "text": [
            "\u001b[32mEpoch 4/25\u001b[0m: 100%|██████████| 879/879 [00:13<00:00]\n"
          ]
        },
        {
          "output_type": "stream",
          "name": "stdout",
          "text": [
            "\u001b[36mResults :\u001b[0m \u001b[35mAverage Loss:\u001b[0m 0.003861, \u001b[35mMSE:\u001b[0m 0.003785, \u001b[35mMAE:\u001b[0m 0.034996\n",
            "\n"
          ]
        },
        {
          "output_type": "stream",
          "name": "stderr",
          "text": [
            "\u001b[32mEpoch 5/25\u001b[0m: 100%|██████████| 879/879 [00:13<00:00]\n"
          ]
        },
        {
          "output_type": "stream",
          "name": "stdout",
          "text": [
            "\u001b[36mResults :\u001b[0m \u001b[35mAverage Loss:\u001b[0m 0.003298, \u001b[35mMSE:\u001b[0m 0.003232, \u001b[35mMAE:\u001b[0m 0.031262\n",
            "\n"
          ]
        },
        {
          "output_type": "stream",
          "name": "stderr",
          "text": [
            "\u001b[32mEpoch 6/25\u001b[0m: 100%|██████████| 879/879 [00:16<00:00]\n"
          ]
        },
        {
          "output_type": "stream",
          "name": "stdout",
          "text": [
            "\u001b[36mResults :\u001b[0m \u001b[35mAverage Loss:\u001b[0m 0.002920, \u001b[35mMSE:\u001b[0m 0.002862, \u001b[35mMAE:\u001b[0m 0.028820\n",
            "\n"
          ]
        },
        {
          "output_type": "stream",
          "name": "stderr",
          "text": [
            "\u001b[32mEpoch 7/25\u001b[0m: 100%|██████████| 879/879 [00:14<00:00]\n"
          ]
        },
        {
          "output_type": "stream",
          "name": "stdout",
          "text": [
            "\u001b[36mResults :\u001b[0m \u001b[35mAverage Loss:\u001b[0m 0.002804, \u001b[35mMSE:\u001b[0m 0.002748, \u001b[35mMAE:\u001b[0m 0.028331\n",
            "\n"
          ]
        },
        {
          "output_type": "stream",
          "name": "stderr",
          "text": [
            "\u001b[32mEpoch 8/25\u001b[0m: 100%|██████████| 879/879 [00:14<00:00]\n"
          ]
        },
        {
          "output_type": "stream",
          "name": "stdout",
          "text": [
            "\u001b[36mResults :\u001b[0m \u001b[35mAverage Loss:\u001b[0m 0.002640, \u001b[35mMSE:\u001b[0m 0.002587, \u001b[35mMAE:\u001b[0m 0.027166\n",
            "\n"
          ]
        },
        {
          "output_type": "stream",
          "name": "stderr",
          "text": [
            "\u001b[32mEpoch 9/25\u001b[0m: 100%|██████████| 879/879 [00:14<00:00]\n"
          ]
        },
        {
          "output_type": "stream",
          "name": "stdout",
          "text": [
            "\u001b[36mResults :\u001b[0m \u001b[35mAverage Loss:\u001b[0m 0.002483, \u001b[35mMSE:\u001b[0m 0.002434, \u001b[35mMAE:\u001b[0m 0.026115\n",
            "\n"
          ]
        },
        {
          "output_type": "stream",
          "name": "stderr",
          "text": [
            "\u001b[32mEpoch 10/25\u001b[0m: 100%|██████████| 879/879 [00:13<00:00]\n"
          ]
        },
        {
          "output_type": "stream",
          "name": "stdout",
          "text": [
            "\u001b[36mResults :\u001b[0m \u001b[35mAverage Loss:\u001b[0m 0.002475, \u001b[35mMSE:\u001b[0m 0.002426, \u001b[35mMAE:\u001b[0m 0.026120\n",
            "\n"
          ]
        },
        {
          "output_type": "stream",
          "name": "stderr",
          "text": [
            "\u001b[32mEpoch 11/25\u001b[0m: 100%|██████████| 879/879 [00:15<00:00]\n"
          ]
        },
        {
          "output_type": "stream",
          "name": "stdout",
          "text": [
            "\u001b[36mResults :\u001b[0m \u001b[35mAverage Loss:\u001b[0m 0.002294, \u001b[35mMSE:\u001b[0m 0.002249, \u001b[35mMAE:\u001b[0m 0.024790\n",
            "\n"
          ]
        },
        {
          "output_type": "stream",
          "name": "stderr",
          "text": [
            "\u001b[32mEpoch 12/25\u001b[0m: 100%|██████████| 879/879 [00:14<00:00]\n"
          ]
        },
        {
          "output_type": "stream",
          "name": "stdout",
          "text": [
            "\u001b[36mResults :\u001b[0m \u001b[35mAverage Loss:\u001b[0m 0.002264, \u001b[35mMSE:\u001b[0m 0.002219, \u001b[35mMAE:\u001b[0m 0.024679\n",
            "\n"
          ]
        },
        {
          "output_type": "stream",
          "name": "stderr",
          "text": [
            "\u001b[32mEpoch 13/25\u001b[0m: 100%|██████████| 879/879 [00:13<00:00]\n"
          ]
        },
        {
          "output_type": "stream",
          "name": "stdout",
          "text": [
            "\u001b[36mResults :\u001b[0m \u001b[35mAverage Loss:\u001b[0m 0.002231, \u001b[35mMSE:\u001b[0m 0.002187, \u001b[35mMAE:\u001b[0m 0.024309\n",
            "\n"
          ]
        },
        {
          "output_type": "stream",
          "name": "stderr",
          "text": [
            "\u001b[32mEpoch 14/25\u001b[0m: 100%|██████████| 879/879 [00:14<00:00]\n"
          ]
        },
        {
          "output_type": "stream",
          "name": "stdout",
          "text": [
            "\u001b[36mResults :\u001b[0m \u001b[35mAverage Loss:\u001b[0m 0.002111, \u001b[35mMSE:\u001b[0m 0.002069, \u001b[35mMAE:\u001b[0m 0.023395\n",
            "\n"
          ]
        },
        {
          "output_type": "stream",
          "name": "stderr",
          "text": [
            "\u001b[32mEpoch 15/25\u001b[0m: 100%|██████████| 879/879 [00:14<00:00]\n"
          ]
        },
        {
          "output_type": "stream",
          "name": "stdout",
          "text": [
            "\u001b[36mResults :\u001b[0m \u001b[35mAverage Loss:\u001b[0m 0.002152, \u001b[35mMSE:\u001b[0m 0.002110, \u001b[35mMAE:\u001b[0m 0.023841\n",
            "\n"
          ]
        },
        {
          "output_type": "stream",
          "name": "stderr",
          "text": [
            "\u001b[32mEpoch 16/25\u001b[0m: 100%|██████████| 879/879 [00:13<00:00]\n"
          ]
        },
        {
          "output_type": "stream",
          "name": "stdout",
          "text": [
            "\u001b[36mResults :\u001b[0m \u001b[35mAverage Loss:\u001b[0m 0.002073, \u001b[35mMSE:\u001b[0m 0.002032, \u001b[35mMAE:\u001b[0m 0.023218\n",
            "\n"
          ]
        },
        {
          "output_type": "stream",
          "name": "stderr",
          "text": [
            "\u001b[32mEpoch 17/25\u001b[0m: 100%|██████████| 879/879 [00:13<00:00]\n"
          ]
        },
        {
          "output_type": "stream",
          "name": "stdout",
          "text": [
            "\u001b[36mResults :\u001b[0m \u001b[35mAverage Loss:\u001b[0m 0.002052, \u001b[35mMSE:\u001b[0m 0.002011, \u001b[35mMAE:\u001b[0m 0.023022\n",
            "\n"
          ]
        },
        {
          "output_type": "stream",
          "name": "stderr",
          "text": [
            "\u001b[32mEpoch 18/25\u001b[0m: 100%|██████████| 879/879 [00:14<00:00]\n"
          ]
        },
        {
          "output_type": "stream",
          "name": "stdout",
          "text": [
            "\u001b[36mResults :\u001b[0m \u001b[35mAverage Loss:\u001b[0m 0.002029, \u001b[35mMSE:\u001b[0m 0.001989, \u001b[35mMAE:\u001b[0m 0.022864\n",
            "\n"
          ]
        },
        {
          "output_type": "stream",
          "name": "stderr",
          "text": [
            "\u001b[32mEpoch 19/25\u001b[0m: 100%|██████████| 879/879 [00:14<00:00]\n"
          ]
        },
        {
          "output_type": "stream",
          "name": "stdout",
          "text": [
            "\u001b[36mResults :\u001b[0m \u001b[35mAverage Loss:\u001b[0m 0.001935, \u001b[35mMSE:\u001b[0m 0.001896, \u001b[35mMAE:\u001b[0m 0.021934\n",
            "\n"
          ]
        },
        {
          "output_type": "stream",
          "name": "stderr",
          "text": [
            "\u001b[32mEpoch 20/25\u001b[0m: 100%|██████████| 879/879 [00:14<00:00]\n"
          ]
        },
        {
          "output_type": "stream",
          "name": "stdout",
          "text": [
            "\u001b[36mResults :\u001b[0m \u001b[35mAverage Loss:\u001b[0m 0.001968, \u001b[35mMSE:\u001b[0m 0.001929, \u001b[35mMAE:\u001b[0m 0.022384\n",
            "\n"
          ]
        },
        {
          "output_type": "stream",
          "name": "stderr",
          "text": [
            "\u001b[32mEpoch 21/25\u001b[0m: 100%|██████████| 879/879 [00:13<00:00]\n"
          ]
        },
        {
          "output_type": "stream",
          "name": "stdout",
          "text": [
            "\u001b[36mResults :\u001b[0m \u001b[35mAverage Loss:\u001b[0m 0.001926, \u001b[35mMSE:\u001b[0m 0.001888, \u001b[35mMAE:\u001b[0m 0.021998\n",
            "\n"
          ]
        },
        {
          "output_type": "stream",
          "name": "stderr",
          "text": [
            "\u001b[32mEpoch 22/25\u001b[0m: 100%|██████████| 879/879 [00:14<00:00]\n"
          ]
        },
        {
          "output_type": "stream",
          "name": "stdout",
          "text": [
            "\u001b[36mResults :\u001b[0m \u001b[35mAverage Loss:\u001b[0m 0.001919, \u001b[35mMSE:\u001b[0m 0.001881, \u001b[35mMAE:\u001b[0m 0.021989\n",
            "\n"
          ]
        },
        {
          "output_type": "stream",
          "name": "stderr",
          "text": [
            "\u001b[32mEpoch 23/25\u001b[0m: 100%|██████████| 879/879 [00:14<00:00]\n"
          ]
        },
        {
          "output_type": "stream",
          "name": "stdout",
          "text": [
            "\u001b[36mResults :\u001b[0m \u001b[35mAverage Loss:\u001b[0m 0.001866, \u001b[35mMSE:\u001b[0m 0.001829, \u001b[35mMAE:\u001b[0m 0.021502\n",
            "\n"
          ]
        },
        {
          "output_type": "stream",
          "name": "stderr",
          "text": [
            "\u001b[32mEpoch 24/25\u001b[0m: 100%|██████████| 879/879 [00:13<00:00]\n"
          ]
        },
        {
          "output_type": "stream",
          "name": "stdout",
          "text": [
            "\u001b[36mResults :\u001b[0m \u001b[35mAverage Loss:\u001b[0m 0.001833, \u001b[35mMSE:\u001b[0m 0.001797, \u001b[35mMAE:\u001b[0m 0.021474\n",
            "\n"
          ]
        },
        {
          "output_type": "stream",
          "name": "stderr",
          "text": [
            "\u001b[32mEpoch 25/25\u001b[0m: 100%|██████████| 879/879 [00:14<00:00]\n"
          ]
        },
        {
          "output_type": "stream",
          "name": "stdout",
          "text": [
            "\u001b[36mResults :\u001b[0m \u001b[35mAverage Loss:\u001b[0m 0.001829, \u001b[35mMSE:\u001b[0m 0.001793, \u001b[35mMAE:\u001b[0m 0.021298\n",
            "\n"
          ]
        },
        {
          "output_type": "display_data",
          "data": {
            "text/plain": [
              "<Figure size 1000x600 with 1 Axes>"
            ],
            "image/png": "[encoded data removed]"
          },
          "metadata": {}
        }
      ]
    },
    {
      "cell_type": "markdown",
      "source": [
        "Eveluation on Test Data"
      ],
      "metadata": {
        "id": "-yz7F6JM3L3M"
      }
    },
    {
      "cell_type": "code",
      "source": [
        "mse, mae, r2 = test(model_implied, test_loader1,scaler1)\n",
        "print(f'Mean Squared Error (MSE): {mse:.4f}')\n",
        "print(f'Mean Absolute Error (MAE): {mae:.4f}')\n",
        "print(f'R² Score: {r2:.4f}')"
      ],
      "metadata": {
        "id": "W0_QJK6BzeXu",
        "colab": {
          "base_uri": "https://localhost:8080/"
        },
        "outputId": "dd427eca-a5ba-46c7-c7eb-a40c1d43b033"
      },
      "execution_count": 28,
      "outputs": [
        {
          "output_type": "stream",
          "name": "stdout",
          "text": [
            "Mean Squared Error (MSE): 0.0017\n",
            "Mean Absolute Error (MAE): 0.0177\n",
            "R² Score: 0.9793\n"
          ]
        }
      ]
    },
    {
      "cell_type": "markdown",
      "source": [
        "Eveluation on Training Data"
      ],
      "metadata": {
        "id": "34ZlzLdN3Hua"
      }
    },
    {
      "cell_type": "code",
      "source": [
        "mse, mae, r2 = test(model_implied, train_loader1,scaler1)\n",
        "print(f'Mean Squared Error (MSE): {mse:.4f}')\n",
        "print(f'Mean Absolute Error (MAE): {mae:.4f}')\n",
        "print(f'R² Score: {r2:.4f}')"
      ],
      "metadata": {
        "id": "U6TKZ_kPzghQ",
        "colab": {
          "base_uri": "https://localhost:8080/"
        },
        "outputId": "61545f00-95ff-4b8b-b877-54dbaf05687d"
      },
      "execution_count": 29,
      "outputs": [
        {
          "output_type": "stream",
          "name": "stdout",
          "text": [
            "Mean Squared Error (MSE): 0.0017\n",
            "Mean Absolute Error (MAE): 0.0176\n",
            "R² Score: 0.9793\n"
          ]
        }
      ]
    }
  ]
}